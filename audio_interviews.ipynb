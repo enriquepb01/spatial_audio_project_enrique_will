{
 "cells": [
  {
   "attachments": {},
   "cell_type": "markdown",
   "metadata": {},
   "source": [
    "This Jupyter notebook file will be used to interview people and find the audio specifications needed for our project."
   ]
  },
  {
   "cell_type": "code",
   "execution_count": 1,
   "metadata": {},
   "outputs": [],
   "source": [
    "import random\n",
    "from scipy.io.wavfile import read\n",
    "import sounddevice as sd\n",
    "import numpy as np\n",
    "import soundfile as sf\n",
    "import time\n",
    "import pyttsx3\n",
    "from pydub import AudioSegment\n",
    "import pydub.playback as pb"
   ]
  },
  {
   "attachments": {},
   "cell_type": "markdown",
   "metadata": {},
   "source": [
    "Test 1: Audio direction\n",
    "\n",
    "For this test, participants will hear 10 sounds, each coming from one of five directions. The directions are classified as W, NW, N, NE, and E. The participant will be asked to determine where the sound came from. At the end, an accuracy score and the individual results will be given."
   ]
  },
  {
   "cell_type": "code",
   "execution_count": 2,
   "metadata": {},
   "outputs": [],
   "source": [
    "def convolve_and_play_audio(direction, input_audio, freq):\n",
    "    L_hrtf_data, freq2 = sf.read('hrtf_sound_files/L_' + direction + '.wav')\n",
    "    R_hrtf_data, freq2 = sf.read('hrtf_sound_files/R_' + direction + '.wav')\n",
    "    left_audio = np.convolve(input_audio, L_hrtf_data)\n",
    "    right_audio = np.convolve(input_audio, R_hrtf_data)\n",
    "    output_audio = np.vstack((left_audio, right_audio)).T\n",
    "    sd.play(output_audio[:88200], freq)\n",
    "    sd.wait()"
   ]
  },
  {
   "cell_type": "code",
   "execution_count": 3,
   "metadata": {},
   "outputs": [
    {
     "ename": "KeyboardInterrupt",
     "evalue": "",
     "output_type": "error",
     "traceback": [
      "\u001b[1;31m---------------------------------------------------------------------------\u001b[0m",
      "\u001b[1;31mKeyboardInterrupt\u001b[0m                         Traceback (most recent call last)",
      "Cell \u001b[1;32mIn[3], line 19\u001b[0m\n\u001b[0;32m     16\u001b[0m     convolve_and_play_audio(direction, input_audio, freq)\n\u001b[0;32m     18\u001b[0m \u001b[39m# Test: Play audio and record results\u001b[39;00m\n\u001b[1;32m---> 19\u001b[0m time\u001b[39m.\u001b[39;49msleep(\u001b[39m3\u001b[39;49m)\n\u001b[0;32m     20\u001b[0m speech\u001b[39m.\u001b[39msay(\u001b[39m\"\u001b[39m\u001b[39mTest. Audio will be played. Record your results.\u001b[39m\u001b[39m\"\u001b[39m)\n\u001b[0;32m     21\u001b[0m speech\u001b[39m.\u001b[39mrunAndWait()\n",
      "\u001b[1;31mKeyboardInterrupt\u001b[0m: "
     ]
    }
   ],
   "source": [
    "# Initialize variables needed for experiment\n",
    "directions = ['W', 'NW', 'N', 'NE', 'E']\n",
    "degrees_directions = [0, 45, 90, 135, 180]\n",
    "trials = 10\n",
    "input_audio_file = 'base_audio.wav'\n",
    "input_audio, freq = sf.read(input_audio_file)\n",
    "speech = pyttsx3.init()\n",
    "\n",
    "# Calibration stage - play one second of each direction; going West to East\n",
    "speech.say(\"Calibration. Get familiar with the sounds.\")\n",
    "speech.runAndWait()\n",
    "for direction in directions:\n",
    "    convolve_and_play_audio(direction, input_audio, freq)\n",
    "time.sleep(2)\n",
    "for direction in reversed(directions):\n",
    "    convolve_and_play_audio(direction, input_audio, freq)\n",
    "\n",
    "# Test: Play audio and record results\n",
    "time.sleep(3)\n",
    "speech.say(\"Test. Audio will be played. Record your results.\")\n",
    "speech.runAndWait()\n",
    "real_directions = []\n",
    "user_picked_directions = []\n",
    "correct = 0\n",
    "incorrect = 0\n",
    "degrees_incorrect = 0\n",
    "for trial in range(trials):\n",
    "    direction = random.choice(directions)\n",
    "    convolve_and_play_audio(direction, input_audio, freq)\n",
    "    real_directions.append(direction)\n",
    "    user_input = input('What direction did the sound come from? (W, NW, N, NE, E) ')\n",
    "    user_picked_directions.append(user_input)\n",
    "    if real_directions[-1] == user_picked_directions[-1]:\n",
    "        correct += 1\n",
    "    else:\n",
    "        degrees_incorrect += np.abs(degrees_directions[list(directions).index(direction)] - degrees_directions[list(directions).index(user_input)])\n",
    "        incorrect += 1\n",
    "    \n",
    "\n",
    "print('Real Directions: ', real_directions)\n",
    "print('User Picked Directions: ', user_picked_directions)\n",
    "print('Correct: ', correct)\n",
    "print('Average degree separation for incorrect: ', degrees_incorrect/incorrect)\n",
    "\n"
   ]
  },
  {
   "attachments": {},
   "cell_type": "markdown",
   "metadata": {},
   "source": [
    "Test 2: Volume\n",
    "\n",
    "For this test, participants will first find the minimum sound that they can hear. Then, they will identify noticeable changes from there. The maximum volume will be the original input audio \n",
    "(1 * input_audio)"
   ]
  },
  {
   "cell_type": "code",
   "execution_count": 4,
   "metadata": {},
   "outputs": [
    {
     "name": "stdout",
     "output_type": "stream",
     "text": [
      "Minimum volume heard:  0.001\n",
      "Noticeable difference factor (low volume):  0.01\n",
      "Noticeable difference factor (medium volume):  -0.15000000000000002\n",
      "Noticeable difference factor (high volume):  0.05\n"
     ]
    }
   ],
   "source": [
    "# Get input audio\n",
    "input_audio_file = 'base_audio.wav'\n",
    "input_audio, freq = sf.read(input_audio_file)\n",
    "\n",
    "# Find minimum volume\n",
    "userInput = 'N'\n",
    "factor = 0.001\n",
    "increase = 0.001\n",
    "speech.say(\"Test. Audio will be played. Indicate if you heard the sound.\")\n",
    "speech.runAndWait()\n",
    "while userInput == 'N':\n",
    "    output_audio = factor * input_audio\n",
    "    sd.play(output_audio)\n",
    "    sd.wait()\n",
    "    userInput = input('Could you hear the sound? (Y/N) ')\n",
    "    if userInput == 'N':\n",
    "        factor += increase\n",
    "\n",
    "print('Minimum volume heard: ', factor)\n",
    "\n",
    "# Find noticeable changes\n",
    "# Low volume\n",
    "difference = 0.01\n",
    "userInput = 'N'\n",
    "time.sleep(2)\n",
    "speech.say(\"Test. Audio will be played. Indicate if you heard the difference in volume between the two audios.\")\n",
    "speech.runAndWait()\n",
    "while userInput == 'N':\n",
    "    output_audio_1 = input_audio * 0.01\n",
    "    output_audio_2 = input_audio * (0.01 + difference)\n",
    "    sd.play(output_audio_1)\n",
    "    sd.wait()\n",
    "    time.sleep(1)\n",
    "    sd.play(output_audio_2)\n",
    "    sd.wait()\n",
    "    userInput = input(\"Could you hear the volume difference? (Y/N) \")\n",
    "    if userInput == 'N':\n",
    "        difference += 0.01\n",
    "print('Noticeable difference factor (low volume): ', difference)\n",
    "\n",
    "# Medium volume\n",
    "difference = 0.05\n",
    "userInput = 'N'\n",
    "time.sleep(2)\n",
    "speech.say(\"Test. Audio will be played. Indicate if you heard the difference in volume between the two audios.\")\n",
    "speech.runAndWait()\n",
    "while userInput == 'N':\n",
    "    output_audio_1 = input_audio * 0.4\n",
    "    output_audio_2 = input_audio * (0.4 - difference)\n",
    "    sd.play(output_audio_1)\n",
    "    sd.wait()\n",
    "    time.sleep(1)\n",
    "    sd.play(output_audio_2)\n",
    "    sd.wait()\n",
    "    userInput = input(\"Could you hear the volume difference? (Y/N) \")\n",
    "    if userInput == 'N':\n",
    "        difference += 0.05\n",
    "print('Noticeable difference factor (medium volume): ', difference)\n",
    "\n",
    "# High volume\n",
    "difference = 0.05\n",
    "userInput = 'N'\n",
    "time.sleep(2)\n",
    "speech.say(\"Test. Audio will be played. Indicate if you heard the difference in volume between the two audios.\")\n",
    "speech.runAndWait()\n",
    "while userInput == 'N':\n",
    "    output_audio_1 = input_audio * 0.7\n",
    "    output_audio_2 = input_audio * (0.7 + difference)\n",
    "    sd.play(output_audio_1)\n",
    "    sd.wait()\n",
    "    time.sleep(1)\n",
    "    sd.play(output_audio_2)\n",
    "    sd.wait()\n",
    "    userInput = input(\"Could you hear the volume difference? (Y/N) \")\n",
    "    if userInput == 'N':\n",
    "        difference += 0.05\n",
    "print('Noticeable difference factor (high volume): ', difference)\n"
   ]
  },
  {
   "attachments": {},
   "cell_type": "markdown",
   "metadata": {},
   "source": [
    "Test 3: Emotions\n",
    "\n",
    "For this test, participants will rank audios from most calm to most danger. Three audios will be presented."
   ]
  },
  {
   "cell_type": "code",
   "execution_count": 5,
   "metadata": {},
   "outputs": [
    {
     "name": "stdout",
     "output_type": "stream",
     "text": [
      "1 2 3\n"
     ]
    }
   ],
   "source": [
    "# Get input audio\n",
    "input_audio_file = 'base_audio.wav'\n",
    "input_audio, freq = sf.read(input_audio_file)\n",
    "\n",
    "output_audio_1 = input_audio[:132300]  # 3 seconds\n",
    "output_audio_2 = input_audio[:33075]  # 0.75 seconds\n",
    "output_audio_3 = input_audio[:11025]  # 0.25 seconds\n",
    "\n",
    "# Output all 3 audio sequences\n",
    "speech.say(\"Test. Three audios will be played. Rank them from most to least calming.\")\n",
    "speech.runAndWait()\n",
    "time.sleep(1)\n",
    "# Constant sound\n",
    "speech.say(\"Audio 1.\")\n",
    "speech.runAndWait()\n",
    "time.sleep(1)\n",
    "sd.play(output_audio_1)\n",
    "sd.wait()\n",
    "time.sleep(2)\n",
    "\n",
    "# Slow beeping\n",
    "speech.say(\"Audio 2.\")\n",
    "speech.runAndWait()\n",
    "time.sleep(1)\n",
    "for i in range(3):\n",
    "    sd.play(output_audio_2)\n",
    "    sd.wait()\n",
    "    time.sleep(0.25)\n",
    "time.sleep(2)\n",
    "\n",
    "# Fast beeping\n",
    "speech.say(\"Audio 3.\")\n",
    "speech.runAndWait()\n",
    "time.sleep(1)\n",
    "for i in range(6):\n",
    "    sd.play(output_audio_3)\n",
    "    sd.wait()\n",
    "    time.sleep(0.25)\n",
    "time.sleep(2)\n",
    "\n",
    "userInput = input('Rank the sounds (eg. 2 1 3): ')\n",
    "\n",
    "print(userInput)"
   ]
  }
 ],
 "metadata": {
  "kernelspec": {
   "display_name": "Python 3",
   "language": "python",
   "name": "python3"
  },
  "language_info": {
   "codemirror_mode": {
    "name": "ipython",
    "version": 3
   },
   "file_extension": ".py",
   "mimetype": "text/x-python",
   "name": "python",
   "nbconvert_exporter": "python",
   "pygments_lexer": "ipython3",
   "version": "3.9.13"
  },
  "orig_nbformat": 4
 },
 "nbformat": 4,
 "nbformat_minor": 2
}
